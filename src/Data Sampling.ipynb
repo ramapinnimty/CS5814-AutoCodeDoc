{
 "cells": [
  {
   "cell_type": "code",
   "execution_count": 1,
   "id": "74a241c1",
   "metadata": {},
   "outputs": [],
   "source": [
    "import pandas as pd\n",
    "import os"
   ]
  },
  {
   "cell_type": "code",
   "execution_count": 2,
   "id": "aacbe955",
   "metadata": {},
   "outputs": [],
   "source": [
    "langs = ['python', 'java', 'ruby', 'javascript']"
   ]
  },
  {
   "cell_type": "code",
   "execution_count": 3,
   "id": "460d57b3",
   "metadata": {},
   "outputs": [],
   "source": [
    "for lang in langs:\n",
    "    train_size = 20000\n",
    "    valid_size = 1400\n",
    "    test_size  = 1000\n",
    "\n",
    "    root_path       = 'dataset/' + lang\n",
    "    train_data_path = os.path.join(root_path, 'train.jsonl')\n",
    "    valid_data_path = os.path.join(root_path, 'valid.jsonl')\n",
    "    test_data_path  = os.path.join(root_path, 'test.jsonl')\n",
    "\n",
    "    train_data = pd.read_json(train_data_path, lines=True)\n",
    "    valid_data = pd.read_json(valid_data_path, lines=True)\n",
    "    test_data  = pd.read_json(test_data_path, lines=True)\n",
    "\n",
    "    train_sample = train_data.sample(train_size)\n",
    "    valid_sample = valid_data.sample(valid_size)\n",
    "    test_sample  = test_data.sample(test_size)\n",
    "    \n",
    "    train_sample.to_json(os.path.join(root_path, 'train_sample.jsonl'), orient='records', lines=True)\n",
    "    valid_sample.to_json(os.path.join(root_path, 'valid_sample.jsonl'), orient='records', lines=True)\n",
    "    test_sample.to_json(os.path.join(root_path, 'test_sample.jsonl'), orient='records', lines=True)"
   ]
  }
 ],
 "metadata": {
  "kernelspec": {
   "display_name": "Python 3",
   "language": "python",
   "name": "python3"
  },
  "language_info": {
   "codemirror_mode": {
    "name": "ipython",
    "version": 3
   },
   "file_extension": ".py",
   "mimetype": "text/x-python",
   "name": "python",
   "nbconvert_exporter": "python",
   "pygments_lexer": "ipython3",
   "version": "3.6.9"
  }
 },
 "nbformat": 4,
 "nbformat_minor": 5
}
