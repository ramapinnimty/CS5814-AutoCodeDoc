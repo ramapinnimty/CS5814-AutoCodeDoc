{
 "cells": [
  {
   "cell_type": "code",
   "execution_count": 1,
   "metadata": {},
   "outputs": [],
   "source": [
    "# Importing all the necessary packages\n",
    "from __future__ import absolute_import\n",
    "import numpy as np\n",
    "import pandas as pd\n",
    "import matplotlib.pyplot as plt\n",
    "import seaborn as sns\n",
    "import os\n",
    "import sys\n",
    "import json\n",
    "import pickle\n",
    "import random\n",
    "import logging\n",
    "import warnings\n",
    "from io import open\n",
    "from itertools import cycle\n",
    "from tqdm import tqdm, trange\n",
    "\n",
    "import torch\n",
    "import torch.nn as nn\n",
    "from torch.utils.data import DataLoader, Dataset, SequentialSampler, RandomSampler, TensorDataset\n",
    "from torch.utils.data.distributed import DistributedSampler\n",
    "from transformers import WEIGHTS_NAME, AdamW, get_linear_schedule_with_warmup\n",
    "from transformers import RobertaConfig, RobertaModel, RobertaTokenizer\n",
    "\n",
    "from model import Seq2Seq\n",
    "import bleu\n",
    "\n",
    "warnings.filterwarnings('ignore')\n",
    "sns.set()\n",
    "%matplotlib inline"
   ]
  },
  {
   "cell_type": "code",
   "execution_count": 2,
   "metadata": {},
   "outputs": [],
   "source": [
    "# Use multiple GPU cores\n",
    "os.environ[\"CUDA_VISIBLE_DEVICES\"] = \"1, 2\""
   ]
  },
  {
   "cell_type": "code",
   "execution_count": 3,
   "metadata": {},
   "outputs": [],
   "source": [
    "# Set configurations\n",
    "MODEL_CLASSES = {'roberta': (RobertaConfig, RobertaModel, RobertaTokenizer)}\n",
    "\n",
    "logging.basicConfig(format='%(asctime)s - %(levelname)s - %(name)s -   %(message)s', datefmt='%m/%d/%Y %H:%M:%S', level=logging.INFO)\n",
    "logger = logging.getLogger(__name__)"
   ]
  },
  {
   "cell_type": "code",
   "execution_count": 4,
   "metadata": {},
   "outputs": [],
   "source": [
    "# Parameters\n",
    "lang                 = 'ruby'\n",
    "data_dir             = 'dataset'\n",
    "load_model_path      = None\n",
    "output_dir           = os.path.join('outputs', lang)\n",
    "load_model_path_test = os.path.join(output_dir, 'checkpoint-best-ppl', 'checkpoint-best-bleu', 'pytorch_model.bin') #checkpoint for test\n",
    "train_filename       = os.path.join(data_dir, lang, 'train_sample.jsonl') # 'train.jsonl'\n",
    "dev_filename         = os.path.join(data_dir, lang, 'valid_sample.jsonl') # 'valid.jsonl'\n",
    "test_filename        = os.path.join(data_dir, lang, 'test_sample.jsonl') # 'test.jsonl'\n",
    "do_train             = True\n",
    "do_eval              = True\n",
    "do_test              = False"
   ]
  },
  {
   "cell_type": "code",
   "execution_count": 5,
   "metadata": {},
   "outputs": [],
   "source": [
    "# Hyper-parameters\n",
    "model_type           = 'roberta'\n",
    "model_name_or_path   = 'roberta-base' # 'microsoft/codebert-base'\n",
    "\n",
    "config_name       = \"\"\n",
    "tokenizer_name    = \"\"\n",
    "max_source_length = 256\n",
    "max_target_length = 128\n",
    "\n",
    "do_lower_case = False\n",
    "no_cuda       = False\n",
    "\n",
    "num_train_epochs            = 3\n",
    "train_batch_size            = 32\n",
    "eval_batch_size             = 32\n",
    "test_batch_size             = 64\n",
    "learning_rate               = 5e-5\n",
    "seed                        = 10\n",
    "\n",
    "beam_size                   = 10\n",
    "gradient_accumulation_steps = 1\n",
    "weight_decay                = 0.0\n",
    "adam_epsilon                = 1e-8\n",
    "max_grad_norm               = 1.0\n",
    "max_steps                   = -1\n",
    "train_steps                 = -1\n",
    "eval_steps                  = -1\n",
    "warmup_steps                = 0\n",
    "local_rank                  = -1"
   ]
  },
  {
   "cell_type": "markdown",
   "metadata": {},
   "source": [
    "## Utility Functions"
   ]
  },
  {
   "cell_type": "code",
   "execution_count": 6,
   "metadata": {},
   "outputs": [],
   "source": [
    "def set_seed(seed=10):\n",
    "    random.seed(seed)\n",
    "    os.environ['PYHTONHASHSEED'] = str(seed)\n",
    "    np.random.seed(seed)\n",
    "    torch.manual_seed(seed)\n",
    "    torch.cuda.manual_seed(seed)\n",
    "    torch.backends.cudnn.deterministic = True"
   ]
  },
  {
   "cell_type": "code",
   "execution_count": 7,
   "metadata": {},
   "outputs": [],
   "source": [
    "class Example(object):\n",
    "    \"\"\"A single training/test example.\"\"\"\n",
    "    def __init__(self, idx, source, target):\n",
    "        self.idx    = idx\n",
    "        self.source = source\n",
    "        self.target = target\n",
    "\n",
    "def read_examples(filename):\n",
    "    \"\"\"Read examples from filename.\"\"\"\n",
    "    examples = []\n",
    "    with open(filename, encoding=\"utf-8\") as f:\n",
    "        for idx, line in enumerate(f):\n",
    "            line = line.strip()\n",
    "            js   = json.loads(line)\n",
    "            if 'idx' not in js:\n",
    "                js['idx'] = idx\n",
    "            code = ' '.join(js['code_tokens']).replace('\\n', ' ')\n",
    "            code = ' '.join(code.strip().split())\n",
    "            nl   = ' '.join(js['docstring_tokens']).replace('\\n', '')\n",
    "            nl   = ' '.join(nl.strip().split())\n",
    "            examples.append(Example(idx=idx, source=code, target=nl))\n",
    "\n",
    "    return examples"
   ]
  },
  {
   "cell_type": "code",
   "execution_count": 8,
   "metadata": {},
   "outputs": [],
   "source": [
    "class InputFeatures(object):\n",
    "    \"\"\"A single training/test features for a example.\"\"\"\n",
    "    def __init__(self, example_id, source_ids, target_ids, source_mask, target_mask):\n",
    "        self.example_id  = example_id\n",
    "        self.source_ids  = source_ids\n",
    "        self.target_ids  = target_ids\n",
    "        self.source_mask = source_mask\n",
    "        self.target_mask = target_mask\n",
    "\n",
    "def convert_examples_to_features(examples, tokenizer, stage=None, \n",
    "                                max_source_length=256, max_target_length=128):\n",
    "    features = []\n",
    "    for example_index, example in enumerate(examples):\n",
    "        # source\n",
    "        source_tokens   = tokenizer.tokenize(example.source)[:max_source_length-2]\n",
    "        source_tokens   = [tokenizer.cls_token] + source_tokens + [tokenizer.sep_token]\n",
    "        source_ids      = tokenizer.convert_tokens_to_ids(source_tokens)\n",
    "        source_mask     = [1] * (len(source_tokens))\n",
    "        padding_length  = max_source_length - len(source_ids)\n",
    "        source_ids     += [tokenizer.pad_token_id] * padding_length\n",
    "        source_mask    += [0] * padding_length\n",
    "\n",
    "        # target\n",
    "        if stage == \"test\":\n",
    "            target_tokens = tokenizer.tokenize(\"None\")\n",
    "        else:\n",
    "            target_tokens = tokenizer.tokenize(example.target)[:max_target_length-2]\n",
    "\n",
    "        target_tokens  = [tokenizer.cls_token] + target_tokens + [tokenizer.sep_token]\n",
    "        target_ids     = tokenizer.convert_tokens_to_ids(target_tokens)\n",
    "        target_mask    = [1] * len(target_ids)\n",
    "        padding_length = max_target_length - len(target_ids)\n",
    "        target_ids    += [tokenizer.pad_token_id] * padding_length\n",
    "        target_mask   += [0] * padding_length\n",
    "\n",
    "        features.append(InputFeatures(example_index, source_ids, target_ids, source_mask, target_mask))\n",
    "\n",
    "    return features"
   ]
  },
  {
   "cell_type": "markdown",
   "metadata": {},
   "source": [
    "## Environment Setup"
   ]
  },
  {
   "cell_type": "code",
   "execution_count": 9,
   "metadata": {
    "scrolled": true
   },
   "outputs": [
    {
     "name": "stderr",
     "output_type": "stream",
     "text": [
      "Some weights of the model checkpoint at roberta-base were not used when initializing RobertaModel: ['lm_head.dense.bias', 'lm_head.dense.weight', 'lm_head.layer_norm.weight', 'lm_head.decoder.weight', 'lm_head.layer_norm.bias', 'lm_head.bias']\n",
      "- This IS expected if you are initializing RobertaModel from the checkpoint of a model trained on another task or with another architecture (e.g. initializing a BertForSequenceClassification model from a BertForPreTraining model).\n",
      "- This IS NOT expected if you are initializing RobertaModel from the checkpoint of a model that you expect to be exactly identical (initializing a BertForSequenceClassification model from a BertForSequenceClassification model).\n"
     ]
    }
   ],
   "source": [
    "# Setup CUDA, GPU & distributed training\n",
    "if local_rank == -1 or no_cuda:\n",
    "    device = torch.device(\"cuda\" if torch.cuda.is_available() and not no_cuda else \"cpu\")\n",
    "    n_gpu  = torch.cuda.device_count()\n",
    "else:  # Initializes the distributed backend which will take care of sychronizing nodes/GPUs\n",
    "    torch.cuda.set_device(local_rank)\n",
    "    device = torch.device(\"cuda\", local_rank)\n",
    "    torch.distributed.init_process_group(backend='nccl')\n",
    "    n_gpu  = 1\n",
    "# logger.warning(\"Process rank: %s, device: %s, n_gpu: %s, distributed training: %s\", local_rank, device, n_gpu, bool(local_rank != -1))\n",
    "\n",
    "# Set seed\n",
    "set_seed(seed)\n",
    "\n",
    "# make dir if output_dir not exist\n",
    "if os.path.exists(output_dir) is False:\n",
    "    os.makedirs(output_dir)\n",
    "\n",
    "config_class, model_class, tokenizer_class = MODEL_CLASSES[model_type]\n",
    "config    = config_class.from_pretrained(config_name if config_name else model_name_or_path)\n",
    "tokenizer = tokenizer_class.from_pretrained(tokenizer_name if tokenizer_name else model_name_or_path, do_lower_case=do_lower_case)\n",
    "\n",
    "# build model\n",
    "encoder       = model_class.from_pretrained(model_name_or_path, config=config)\n",
    "decoder_layer = nn.TransformerDecoderLayer(d_model=config.hidden_size, nhead=config.num_attention_heads)\n",
    "decoder       = nn.TransformerDecoder(decoder_layer, num_layers=6)\n",
    "model         = Seq2Seq(encoder=encoder, decoder=decoder, config=config, \n",
    "                        beam_size=beam_size, max_length=max_target_length, \n",
    "                        sos_id=tokenizer.cls_token_id, eos_id=tokenizer.sep_token_id)\n",
    "\n",
    "if load_model_path is not None:\n",
    "    logger.info(\"reload model from {}\".format(load_model_path))\n",
    "    model.load_state_dict(torch.load(load_model_path))\n",
    "model.to(device)\n",
    "\n",
    "if local_rank != -1:\n",
    "    # Distributed training\n",
    "    try:\n",
    "        from apex.parallel import DistributedDataParallel as DDP\n",
    "    except ImportError:\n",
    "        raise ImportError(\"Please install apex from https://www.github.com/nvidia/apex to use distributed and fp16 training.\")\n",
    "    model = DDP(model)\n",
    "\n",
    "elif n_gpu > 1:\n",
    "    # multi-gpu training\n",
    "    model = torch.nn.DataParallel(model)"
   ]
  },
  {
   "cell_type": "markdown",
   "metadata": {},
   "source": [
    "## Training"
   ]
  },
  {
   "cell_type": "code",
   "execution_count": 10,
   "metadata": {},
   "outputs": [],
   "source": [
    "def train_dev_test(tokenizer, model, device, train_filename, max_source_length, max_target_length, learning_rate, adam_epsilon, \n",
    "            local_rank, train_batch_size, gradient_accumulation_steps, train_steps, weight_decay, \n",
    "            num_train_epochs, n_gpu, do_train, do_eval, dev_filename, eval_batch_size, \n",
    "            output_dir, do_test, test_filename, test_batch_size, load_model_path_test):\n",
    "\n",
    "    train_losses = []\n",
    "    if do_train:\n",
    "        # Prepare training data loader\n",
    "        train_examples = read_examples(train_filename)\n",
    "        train_features = convert_examples_to_features(train_examples, tokenizer, stage='train', \n",
    "                                                     max_source_length=max_source_length, max_target_length=max_target_length)\n",
    "\n",
    "        all_source_ids  = torch.tensor([f.source_ids for f in train_features], dtype=torch.long)\n",
    "        all_source_mask = torch.tensor([f.source_mask for f in train_features], dtype=torch.long)\n",
    "        all_target_ids  = torch.tensor([f.target_ids for f in train_features], dtype=torch.long)\n",
    "        all_target_mask = torch.tensor([f.target_mask for f in train_features], dtype=torch.long)\n",
    "\n",
    "        train_data = TensorDataset(all_source_ids, all_source_mask, all_target_ids, all_target_mask)\n",
    "\n",
    "        if local_rank == -1:\n",
    "            train_sampler = RandomSampler(train_data)\n",
    "        else:\n",
    "            train_sampler = DistributedSampler(train_data)\n",
    "\n",
    "        train_dataloader = DataLoader(train_data, sampler=train_sampler, batch_size=train_batch_size//gradient_accumulation_steps)\n",
    "\n",
    "        num_train_optimization_steps = train_steps\n",
    "\n",
    "        # Prepare optimizer and schedule (linear warmup and decay)\n",
    "        no_decay = ['bias', 'LayerNorm.weight']\n",
    "        optimizer_grouped_parameters = [\n",
    "            {'params': [p for n, p in model.named_parameters() if not any(nd in n for nd in no_decay)], \n",
    "             'weight_decay': weight_decay},\n",
    "            {'params': [p for n, p in model.named_parameters() if any(nd in n for nd in no_decay)], \n",
    "             'weight_decay': 0.0}\n",
    "        ]\n",
    "\n",
    "        t_total   = len(train_dataloader) // gradient_accumulation_steps * num_train_epochs\n",
    "        optimizer = AdamW(optimizer_grouped_parameters, lr=learning_rate, eps=adam_epsilon)\n",
    "        scheduler = get_linear_schedule_with_warmup(optimizer,\n",
    "                                                    num_warmup_steps=int(t_total * 0.1),\n",
    "                                                    num_training_steps=t_total)\n",
    "\n",
    "        # Start training\n",
    "        logger.info(\"***** Running training *****\")\n",
    "        logger.info(\"  Num examples = %d\", len(train_examples))\n",
    "        logger.info(\"  Batch size = %d\", train_batch_size)\n",
    "        logger.info(\"  Num epoch = %d\", num_train_epochs)\n",
    "\n",
    "        model.train()\n",
    "        dev_dataset = {}\n",
    "        nb_tr_examples, nb_tr_steps, tr_loss, global_step, best_bleu, best_loss = 0, 0, 0, 0, 0, 1e6\n",
    "        for epoch in range(num_train_epochs):\n",
    "            bar = tqdm(train_dataloader, total=len(train_dataloader))\n",
    "            for batch in bar:\n",
    "                batch = tuple(t.to(device) for t in batch)\n",
    "                source_ids, source_mask, target_ids, target_mask = batch\n",
    "                loss, _, _ = model(source_ids=source_ids, source_mask=source_mask, target_ids=target_ids, target_mask=target_mask)\n",
    "\n",
    "                if n_gpu > 1:\n",
    "                    loss = loss.mean()  # mean() to average on multi-gpu.\n",
    "                if gradient_accumulation_steps > 1:\n",
    "                    loss = loss / gradient_accumulation_steps\n",
    "\n",
    "                tr_loss        += loss.item()\n",
    "                train_loss      = round(tr_loss * gradient_accumulation_steps / (nb_tr_steps + 1), 4)\n",
    "                bar.set_description(\"epoch {} loss {}\".format(epoch, train_loss))\n",
    "\n",
    "                train_losses.append(train_loss)\n",
    "\n",
    "                nb_tr_examples += source_ids.size(0)\n",
    "                nb_tr_steps    += 1\n",
    "                loss.backward()\n",
    "\n",
    "                if (nb_tr_steps + 1) % gradient_accumulation_steps == 0:\n",
    "                    # Update parameters\n",
    "                    optimizer.step()\n",
    "                    optimizer.zero_grad()\n",
    "                    scheduler.step()\n",
    "                    global_step += 1\n",
    "\n",
    "            if do_eval:\n",
    "                # Eval model with dev dataset\n",
    "                tr_loss = 0\n",
    "                nb_tr_examples, nb_tr_steps = 0, 0\n",
    "                eval_flag = False\n",
    "                if 'dev_loss' in dev_dataset:\n",
    "                    eval_examples, eval_data = dev_dataset['dev_loss']\n",
    "                else:\n",
    "                    eval_examples = read_examples(dev_filename)\n",
    "                    eval_features = convert_examples_to_features(\n",
    "                        eval_examples, tokenizer, stage='dev', max_source_length=max_source_length, max_target_length=max_target_length)\n",
    "                    all_source_ids = torch.tensor(\n",
    "                        [f.source_ids for f in eval_features], dtype=torch.long)\n",
    "                    all_source_mask = torch.tensor(\n",
    "                        [f.source_mask for f in eval_features], dtype=torch.long)\n",
    "                    all_target_ids = torch.tensor(\n",
    "                        [f.target_ids for f in eval_features], dtype=torch.long)\n",
    "                    all_target_mask = torch.tensor(\n",
    "                        [f.target_mask for f in eval_features], dtype=torch.long)\n",
    "\n",
    "                    eval_data = TensorDataset(all_source_ids, all_source_mask, all_target_ids, all_target_mask)\n",
    "\n",
    "                    dev_dataset['dev_loss'] = eval_examples, eval_data\n",
    "                eval_sampler    = SequentialSampler(eval_data)\n",
    "                eval_dataloader = DataLoader(eval_data, sampler=eval_sampler, batch_size=eval_batch_size)\n",
    "\n",
    "                logger.info(\"\\n***** Running evaluation *****\")\n",
    "                logger.info(\"  Num examples = %d\", len(eval_examples))\n",
    "                logger.info(\"  Batch size = %d\", eval_batch_size)\n",
    "\n",
    "                # Start Evaluating the model\n",
    "                model.eval()\n",
    "                eval_loss, tokens_num = 0, 0\n",
    "                for batch in eval_dataloader:\n",
    "                    batch = tuple(t.to(device) for t in batch)\n",
    "                    source_ids, source_mask, target_ids, target_mask = batch\n",
    "\n",
    "                    with torch.no_grad():\n",
    "                        _, loss, num = model(source_ids=source_ids, source_mask=source_mask,\n",
    "                                             target_ids=target_ids, target_mask=target_mask)\n",
    "                    eval_loss  += loss.sum().item()\n",
    "                    tokens_num += num.sum().item()\n",
    "\n",
    "                # Pring loss of dev dataset\n",
    "                model.train()\n",
    "                eval_loss = eval_loss / tokens_num\n",
    "\n",
    "                result = {'eval_ppl': round(np.exp(eval_loss), 5),\n",
    "                          'global_step': global_step+1,\n",
    "                          'train_loss': round(train_loss, 5)}\n",
    "                for key in sorted(result.keys()):\n",
    "                    logger.info(\"  %s = %s\", key, str(result[key]))\n",
    "                logger.info(\"  \"+\"*\"*20)\n",
    "\n",
    "                # save last checkpoint\n",
    "                last_output_dir = os.path.join(output_dir, 'checkpoint-last')\n",
    "                if not os.path.exists(last_output_dir):\n",
    "                    os.makedirs(last_output_dir)\n",
    "                model_to_save     = model.module if hasattr(model, 'module') else model  # Only save the model it-self\n",
    "                output_model_file = os.path.join(last_output_dir, \"pytorch_model.bin\")\n",
    "                torch.save(model_to_save.state_dict(), output_model_file)\n",
    "                if eval_loss < best_loss:\n",
    "                    logger.info(\"  Best ppl:%s\", round(np.exp(eval_loss), 5))\n",
    "                    logger.info(\"  \"+\"*\"*20)\n",
    "                    best_loss = eval_loss\n",
    "\n",
    "                    # Save best checkpoint for best ppl\n",
    "                    output_dir = os.path.join(output_dir, 'checkpoint-best-ppl')\n",
    "                    if not os.path.exists(output_dir):\n",
    "                        os.makedirs(output_dir)\n",
    "                    model_to_save = model.module if hasattr(model, 'module') else model  # Only save the model it-self\n",
    "                    output_model_file = os.path.join(output_dir, \"pytorch_model.bin\")\n",
    "                    torch.save(model_to_save.state_dict(), output_model_file)\n",
    "\n",
    "                # Calculate bleu\n",
    "                if 'dev_bleu' in dev_dataset:\n",
    "                    eval_examples, eval_data = dev_dataset['dev_bleu']\n",
    "                else:\n",
    "                    eval_examples = read_examples(dev_filename)\n",
    "                    eval_examples = random.sample(eval_examples, min(1000, len(eval_examples)))\n",
    "                    eval_features = convert_examples_to_features(\n",
    "                        eval_examples, tokenizer, stage='test', max_source_length=max_source_length, max_target_length=max_target_length)\n",
    "                    all_source_ids = torch.tensor([f.source_ids for f in eval_features], dtype=torch.long)\n",
    "                    all_source_mask = torch.tensor([f.source_mask for f in eval_features], dtype=torch.long)\n",
    "                    eval_data = TensorDataset(all_source_ids, all_source_mask)\n",
    "                    dev_dataset['dev_bleu'] = eval_examples, eval_data\n",
    "\n",
    "                eval_sampler    = SequentialSampler(eval_data)\n",
    "                eval_dataloader = DataLoader(eval_data, sampler=eval_sampler, batch_size=eval_batch_size)\n",
    "\n",
    "                p = []\n",
    "                for batch in eval_dataloader:\n",
    "                    batch = tuple(t.to(device) for t in batch)\n",
    "                    source_ids, source_mask = batch\n",
    "                    with torch.no_grad():\n",
    "                        preds = model(source_ids=source_ids, source_mask=source_mask)\n",
    "                        for pred in preds:\n",
    "                            t = pred[0].cpu().numpy()\n",
    "                            t = list(t)\n",
    "                            if 0 in t:\n",
    "                                t = t[:t.index(0)]\n",
    "                            text = tokenizer.decode(t, clean_up_tokenization_spaces=False)\n",
    "                            p.append(text)\n",
    "                model.train()\n",
    "                predictions = []\n",
    "                with open(os.path.join(output_dir, \"dev.output\"), 'w', encoding=\"utf8\") as f, open(os.path.join(output_dir, \"dev.gold\"), 'w', encoding=\"utf8\") as f1:\n",
    "                    for ref, gold in zip(p, eval_examples):\n",
    "                        predictions.append(str(gold.idx)+'\\t'+ref)\n",
    "                        f.write(str(gold.idx)+'\\t'+ref+'\\n')\n",
    "                        f1.write(str(gold.idx)+'\\t'+gold.target+'\\n')\n",
    "\n",
    "                (goldMap, predictionMap) = bleu.computeMaps(predictions, os.path.join(output_dir, \"dev.gold\"))\n",
    "                dev_bleu = round(bleu.bleuFromMaps(goldMap, predictionMap)[0], 2)\n",
    "                logger.info(\"  %s = %s \" % (\"bleu-4\", str(dev_bleu)))\n",
    "                logger.info(\"  \"+\"*\"*20)\n",
    "                if dev_bleu > best_bleu:\n",
    "                    logger.info(\"  Best bleu:%s\", dev_bleu)\n",
    "                    logger.info(\"  \"+\"*\"*20)\n",
    "                    best_bleu = dev_bleu\n",
    "                    # Save best checkpoint for best bleu\n",
    "                    output_dir = os.path.join(output_dir, 'checkpoint-best-bleu')\n",
    "                    if not os.path.exists(output_dir):\n",
    "                        os.makedirs(output_dir)\n",
    "                    model_to_save = model.module if hasattr(model, 'module') else model  # Only save the model itself\n",
    "                    output_model_file = os.path.join(output_dir, \"pytorch_model.bin\")\n",
    "                    torch.save(model_to_save.state_dict(), output_model_file)\n",
    "\n",
    "    if do_test:\n",
    "        files = []\n",
    "        if dev_filename is not None:\n",
    "            files.append(dev_filename)\n",
    "\n",
    "        if test_filename is not None:\n",
    "            files.append(test_filename)\n",
    "\n",
    "        for idx, file in enumerate(files):\n",
    "            logger.info(\"Test file: {}\".format(file))\n",
    "            eval_examples   = read_examples(file)\n",
    "            eval_features   = convert_examples_to_features(eval_examples, tokenizer, stage='test', max_source_length=max_source_length, max_target_length=max_target_length)\n",
    "            all_source_ids  = torch.tensor([f.source_ids for f in eval_features], dtype=torch.long)\n",
    "            all_source_mask = torch.tensor([f.source_mask for f in eval_features], dtype=torch.long)\n",
    "            eval_data = TensorDataset(all_source_ids, all_source_mask)\n",
    "\n",
    "            # Calculate bleu\n",
    "            eval_sampler    = SequentialSampler(eval_data)\n",
    "            eval_dataloader = DataLoader(eval_data, sampler=eval_sampler, batch_size=test_batch_size)\n",
    "\n",
    "            model.eval()\n",
    "            p = []\n",
    "            for batch in tqdm(eval_dataloader, total=len(eval_dataloader)):\n",
    "                batch = tuple(t.to(device) for t in batch)\n",
    "                source_ids, source_mask = batch\n",
    "                with torch.no_grad():\n",
    "                    preds = model(source_ids=source_ids, source_mask=source_mask)\n",
    "                    for pred in preds:\n",
    "                        t = pred[0].cpu().numpy()\n",
    "                        t = list(t)\n",
    "                        if 0 in t:\n",
    "                            t = t[:t.index(0)]\n",
    "                        text = tokenizer.decode(t, clean_up_tokenization_spaces=False)\n",
    "                        p.append(text)\n",
    "\n",
    "            model.train()\n",
    "            predictions = []\n",
    "            with open(os.path.join(output_dir, \"test_{}.output\".format(str(idx))), 'w', encoding=\"utf8\") as f, open(os.path.join(output_dir, \"test_{}.gold\".format(str(idx))), 'w', encoding=\"utf8\") as f1:\n",
    "                for ref, gold in zip(p, eval_examples):\n",
    "                    predictions.append(str(gold.idx)+'\\t'+ref)\n",
    "                    f.write(str(gold.idx)+'\\t'+ref+'\\n')\n",
    "                    f1.write(str(gold.idx)+'\\t'+gold.target+'\\n')\n",
    "\n",
    "            (goldMap, predictionMap) = bleu.computeMaps(predictions, os.path.join(output_dir, \"test_{}.gold\".format(idx)))\n",
    "            dev_bleu = round(bleu.bleuFromMaps(goldMap, predictionMap)[0], 2)\n",
    "            logger.info(\"  %s = %s \" % (\"bleu-4\", str(dev_bleu)))\n",
    "            logger.info(\"  \"+\"*\"*20)\n",
    "\n",
    "    return train_losses"
   ]
  },
  {
   "cell_type": "markdown",
   "metadata": {},
   "source": [
    "### Ruby"
   ]
  },
  {
   "cell_type": "code",
   "execution_count": 12,
   "metadata": {
    "scrolled": false
   },
   "outputs": [
    {
     "name": "stderr",
     "output_type": "stream",
     "text": [
      "05/09/2022 05:34:09 - INFO - __main__ -   ***** Running training *****\n",
      "05/09/2022 05:34:09 - INFO - __main__ -     Num examples = 20000\n",
      "05/09/2022 05:34:09 - INFO - __main__ -     Batch size = 32\n",
      "05/09/2022 05:34:09 - INFO - __main__ -     Num epoch = 3\n",
      "epoch 0 loss 5.9783: 100%|██████████| 625/625 [04:23<00:00,  2.37it/s]\n",
      "05/09/2022 05:38:35 - INFO - __main__ -   \n",
      "***** Running evaluation *****\n",
      "05/09/2022 05:38:35 - INFO - __main__ -     Num examples = 1400\n",
      "05/09/2022 05:38:35 - INFO - __main__ -     Batch size = 32\n",
      "05/09/2022 05:38:41 - INFO - __main__ -     eval_ppl = 159.72508\n",
      "05/09/2022 05:38:41 - INFO - __main__ -     global_step = 626\n",
      "05/09/2022 05:38:41 - INFO - __main__ -     train_loss = 5.9783\n",
      "05/09/2022 05:38:41 - INFO - __main__ -     ********************\n",
      "05/09/2022 05:38:43 - INFO - __main__ -     Best ppl:159.72508\n",
      "05/09/2022 05:38:43 - INFO - __main__ -     ********************\n",
      "Total: 1000\n",
      "05/09/2022 05:40:36 - INFO - __main__ -     bleu-4 = 7.91 \n",
      "05/09/2022 05:40:36 - INFO - __main__ -     ********************\n",
      "05/09/2022 05:40:36 - INFO - __main__ -     Best bleu:7.91\n",
      "05/09/2022 05:40:36 - INFO - __main__ -     ********************\n",
      "epoch 1 loss 4.6976: 100%|██████████| 625/625 [04:21<00:00,  2.39it/s]\n",
      "05/09/2022 05:44:59 - INFO - __main__ -   \n",
      "***** Running evaluation *****\n",
      "05/09/2022 05:44:59 - INFO - __main__ -     Num examples = 1400\n",
      "05/09/2022 05:44:59 - INFO - __main__ -     Batch size = 32\n",
      "05/09/2022 05:45:06 - INFO - __main__ -     eval_ppl = 118.60928\n",
      "05/09/2022 05:45:06 - INFO - __main__ -     global_step = 1251\n",
      "05/09/2022 05:45:06 - INFO - __main__ -     train_loss = 4.6976\n",
      "05/09/2022 05:45:06 - INFO - __main__ -     ********************\n",
      "05/09/2022 05:45:08 - INFO - __main__ -     Best ppl:118.60928\n",
      "05/09/2022 05:45:08 - INFO - __main__ -     ********************\n",
      "Total: 1000\n",
      "05/09/2022 05:46:57 - INFO - __main__ -     bleu-4 = 9.24 \n",
      "05/09/2022 05:46:57 - INFO - __main__ -     ********************\n",
      "05/09/2022 05:46:57 - INFO - __main__ -     Best bleu:9.24\n",
      "05/09/2022 05:46:57 - INFO - __main__ -     ********************\n",
      "epoch 2 loss 4.306: 100%|██████████| 625/625 [04:21<00:00,  2.39it/s] \n",
      "05/09/2022 05:51:21 - INFO - __main__ -   \n",
      "***** Running evaluation *****\n",
      "05/09/2022 05:51:21 - INFO - __main__ -     Num examples = 1400\n",
      "05/09/2022 05:51:21 - INFO - __main__ -     Batch size = 32\n",
      "05/09/2022 05:51:27 - INFO - __main__ -     eval_ppl = 108.96398\n",
      "05/09/2022 05:51:27 - INFO - __main__ -     global_step = 1876\n",
      "05/09/2022 05:51:27 - INFO - __main__ -     train_loss = 4.306\n",
      "05/09/2022 05:51:27 - INFO - __main__ -     ********************\n",
      "05/09/2022 05:51:29 - INFO - __main__ -     Best ppl:108.96398\n",
      "05/09/2022 05:51:29 - INFO - __main__ -     ********************\n",
      "Total: 1000\n",
      "05/09/2022 05:53:17 - INFO - __main__ -     bleu-4 = 9.97 \n",
      "05/09/2022 05:53:17 - INFO - __main__ -     ********************\n",
      "05/09/2022 05:53:17 - INFO - __main__ -     Best bleu:9.97\n",
      "05/09/2022 05:53:17 - INFO - __main__ -     ********************\n"
     ]
    }
   ],
   "source": [
    "train_losses_ruby = train_dev_test(tokenizer, model, device, train_filename, max_source_length, max_target_length, learning_rate, adam_epsilon, \n",
    "            local_rank, train_batch_size, gradient_accumulation_steps, train_steps, weight_decay, \n",
    "            num_train_epochs, n_gpu, do_train, do_eval, dev_filename, eval_batch_size, \n",
    "            output_dir, do_test, test_filename, test_batch_size, load_model_path_test)"
   ]
  },
  {
   "cell_type": "code",
   "execution_count": 13,
   "metadata": {},
   "outputs": [
    {
     "data": {
      "image/png": "[encoded data removed]",
      "text/plain": [
       "<Figure size 432x288 with 1 Axes>"
      ]
     },
     "metadata": {
      "needs_background": "light"
     },
     "output_type": "display_data"
    }
   ],
   "source": [
    "plt.plot(train_losses_ruby)\n",
    "# plt.ylim(bottom=0)\n",
    "plt.xlabel('training steps')\n",
    "plt.ylabel('loss')\n",
    "plt.title('Training loss curve over batch updates for Ruby')\n",
    "plt.show();"
   ]
  },
  {
   "cell_type": "markdown",
   "metadata": {},
   "source": [
    "### Python"
   ]
  },
  {
   "cell_type": "code",
   "execution_count": 14,
   "metadata": {},
   "outputs": [],
   "source": [
    "# Parameters\n",
    "lang                 = 'python'\n",
    "data_dir             = 'dataset'\n",
    "load_model_path      = None\n",
    "output_dir           = os.path.join('outputs', lang)\n",
    "load_model_path_test = os.path.join(output_dir, 'checkpoint-best-ppl', 'checkpoint-best-bleu', 'pytorch_model.bin') #checkpoint for test\n",
    "train_filename       = os.path.join(data_dir, lang, 'train_sample.jsonl') # 'train.jsonl'\n",
    "dev_filename         = os.path.join(data_dir, lang, 'valid_sample.jsonl') # 'valid.jsonl'\n",
    "test_filename        = os.path.join(data_dir, lang, 'test_sample.jsonl') # 'test.jsonl'\n",
    "do_train             = True\n",
    "do_eval              = True\n",
    "do_test              = False"
   ]
  },
  {
   "cell_type": "code",
   "execution_count": 15,
   "metadata": {},
   "outputs": [
    {
     "name": "stderr",
     "output_type": "stream",
     "text": [
      "05/09/2022 05:53:56 - INFO - __main__ -   ***** Running training *****\n",
      "05/09/2022 05:53:56 - INFO - __main__ -     Num examples = 20000\n",
      "05/09/2022 05:53:56 - INFO - __main__ -     Batch size = 32\n",
      "05/09/2022 05:53:56 - INFO - __main__ -     Num epoch = 3\n",
      "epoch 0 loss 4.7659: 100%|██████████| 625/625 [04:23<00:00,  2.37it/s]\n",
      "05/09/2022 05:58:22 - INFO - __main__ -   \n",
      "***** Running evaluation *****\n",
      "05/09/2022 05:58:22 - INFO - __main__ -     Num examples = 1400\n",
      "05/09/2022 05:58:22 - INFO - __main__ -     Batch size = 32\n",
      "05/09/2022 05:58:28 - INFO - __main__ -     eval_ppl = 136.18108\n",
      "05/09/2022 05:58:28 - INFO - __main__ -     global_step = 626\n",
      "05/09/2022 05:58:28 - INFO - __main__ -     train_loss = 4.7659\n",
      "05/09/2022 05:58:28 - INFO - __main__ -     ********************\n",
      "05/09/2022 05:58:30 - INFO - __main__ -     Best ppl:136.18108\n",
      "05/09/2022 05:58:30 - INFO - __main__ -     ********************\n",
      "Total: 1000\n",
      "05/09/2022 06:00:19 - INFO - __main__ -     bleu-4 = 13.09 \n",
      "05/09/2022 06:00:19 - INFO - __main__ -     ********************\n",
      "05/09/2022 06:00:19 - INFO - __main__ -     Best bleu:13.09\n",
      "05/09/2022 06:00:19 - INFO - __main__ -     ********************\n",
      "epoch 1 loss 4.2583: 100%|██████████| 625/625 [04:23<00:00,  2.37it/s]\n",
      "05/09/2022 06:04:45 - INFO - __main__ -   \n",
      "***** Running evaluation *****\n",
      "05/09/2022 06:04:45 - INFO - __main__ -     Num examples = 1400\n",
      "05/09/2022 06:04:45 - INFO - __main__ -     Batch size = 32\n",
      "05/09/2022 06:04:51 - INFO - __main__ -     eval_ppl = 112.12679\n",
      "05/09/2022 06:04:51 - INFO - __main__ -     global_step = 1251\n",
      "05/09/2022 06:04:51 - INFO - __main__ -     train_loss = 4.2583\n",
      "05/09/2022 06:04:51 - INFO - __main__ -     ********************\n",
      "05/09/2022 06:04:53 - INFO - __main__ -     Best ppl:112.12679\n",
      "05/09/2022 06:04:53 - INFO - __main__ -     ********************\n",
      "Total: 1000\n",
      "05/09/2022 06:06:45 - INFO - __main__ -     bleu-4 = 13.4 \n",
      "05/09/2022 06:06:45 - INFO - __main__ -     ********************\n",
      "05/09/2022 06:06:45 - INFO - __main__ -     Best bleu:13.4\n",
      "05/09/2022 06:06:45 - INFO - __main__ -     ********************\n",
      "epoch 2 loss 3.9382: 100%|██████████| 625/625 [04:22<00:00,  2.38it/s]\n",
      "05/09/2022 06:11:09 - INFO - __main__ -   \n",
      "***** Running evaluation *****\n",
      "05/09/2022 06:11:09 - INFO - __main__ -     Num examples = 1400\n",
      "05/09/2022 06:11:09 - INFO - __main__ -     Batch size = 32\n",
      "05/09/2022 06:11:15 - INFO - __main__ -     eval_ppl = 103.1164\n",
      "05/09/2022 06:11:15 - INFO - __main__ -     global_step = 1876\n",
      "05/09/2022 06:11:15 - INFO - __main__ -     train_loss = 3.9382\n",
      "05/09/2022 06:11:15 - INFO - __main__ -     ********************\n",
      "05/09/2022 06:11:18 - INFO - __main__ -     Best ppl:103.1164\n",
      "05/09/2022 06:11:18 - INFO - __main__ -     ********************\n",
      "Total: 1000\n",
      "05/09/2022 06:13:09 - INFO - __main__ -     bleu-4 = 13.79 \n",
      "05/09/2022 06:13:09 - INFO - __main__ -     ********************\n",
      "05/09/2022 06:13:09 - INFO - __main__ -     Best bleu:13.79\n",
      "05/09/2022 06:13:09 - INFO - __main__ -     ********************\n"
     ]
    }
   ],
   "source": [
    "train_losses_python = train_dev_test(tokenizer, model, device, train_filename, max_source_length, max_target_length, learning_rate, adam_epsilon, \n",
    "            local_rank, train_batch_size, gradient_accumulation_steps, train_steps, weight_decay, \n",
    "            num_train_epochs, n_gpu, do_train, do_eval, dev_filename, eval_batch_size, \n",
    "            output_dir, do_test, test_filename, test_batch_size, load_model_path_test)"
   ]
  },
  {
   "cell_type": "code",
   "execution_count": 16,
   "metadata": {},
   "outputs": [
    {
     "data": {
      "image/png": "[encoded data removed]",
      "text/plain": [
       "<Figure size 432x288 with 1 Axes>"
      ]
     },
     "metadata": {
      "needs_background": "light"
     },
     "output_type": "display_data"
    }
   ],
   "source": [
    "plt.plot(train_losses_python)\n",
    "# plt.ylim(bottom=0)\n",
    "plt.xlabel('training steps')\n",
    "plt.ylabel('loss')\n",
    "plt.title('Training loss curve over batch updates for Python')\n",
    "plt.show();"
   ]
  },
  {
   "cell_type": "markdown",
   "metadata": {},
   "source": [
    "### Java"
   ]
  },
  {
   "cell_type": "code",
   "execution_count": 17,
   "metadata": {},
   "outputs": [],
   "source": [
    "# Parameters\n",
    "lang                 = 'java'\n",
    "data_dir             = 'dataset'\n",
    "load_model_path      = None\n",
    "output_dir           = os.path.join('outputs', lang)\n",
    "load_model_path_test = os.path.join(output_dir, 'checkpoint-best-ppl', 'checkpoint-best-bleu', 'pytorch_model.bin') #checkpoint for test\n",
    "train_filename       = os.path.join(data_dir, lang, 'train_sample.jsonl') # 'train.jsonl'\n",
    "dev_filename         = os.path.join(data_dir, lang, 'valid_sample.jsonl') # 'valid.jsonl'\n",
    "test_filename        = os.path.join(data_dir, lang, 'test_sample.jsonl') # 'test.jsonl'\n",
    "do_train             = True\n",
    "do_eval              = True\n",
    "do_test              = False"
   ]
  },
  {
   "cell_type": "code",
   "execution_count": 18,
   "metadata": {},
   "outputs": [
    {
     "name": "stderr",
     "output_type": "stream",
     "text": [
      "05/09/2022 06:13:57 - INFO - __main__ -   ***** Running training *****\n",
      "05/09/2022 06:13:57 - INFO - __main__ -     Num examples = 20000\n",
      "05/09/2022 06:13:57 - INFO - __main__ -     Batch size = 32\n",
      "05/09/2022 06:13:57 - INFO - __main__ -     Num epoch = 3\n",
      "epoch 0 loss 4.2249: 100%|██████████| 625/625 [04:22<00:00,  2.38it/s]\n",
      "05/09/2022 06:18:23 - INFO - __main__ -   \n",
      "***** Running evaluation *****\n",
      "05/09/2022 06:18:23 - INFO - __main__ -     Num examples = 1400\n",
      "05/09/2022 06:18:23 - INFO - __main__ -     Batch size = 32\n",
      "05/09/2022 06:18:30 - INFO - __main__ -     eval_ppl = 63.47124\n",
      "05/09/2022 06:18:30 - INFO - __main__ -     global_step = 626\n",
      "05/09/2022 06:18:30 - INFO - __main__ -     train_loss = 4.2249\n",
      "05/09/2022 06:18:30 - INFO - __main__ -     ********************\n",
      "05/09/2022 06:18:32 - INFO - __main__ -     Best ppl:63.47124\n",
      "05/09/2022 06:18:32 - INFO - __main__ -     ********************\n",
      "Total: 1000\n",
      "05/09/2022 06:20:45 - INFO - __main__ -     bleu-4 = 13.9 \n",
      "05/09/2022 06:20:45 - INFO - __main__ -     ********************\n",
      "05/09/2022 06:20:45 - INFO - __main__ -     Best bleu:13.9\n",
      "05/09/2022 06:20:45 - INFO - __main__ -     ********************\n",
      "epoch 1 loss 3.7879: 100%|██████████| 625/625 [04:23<00:00,  2.37it/s]\n",
      "05/09/2022 06:25:11 - INFO - __main__ -   \n",
      "***** Running evaluation *****\n",
      "05/09/2022 06:25:11 - INFO - __main__ -     Num examples = 1400\n",
      "05/09/2022 06:25:11 - INFO - __main__ -     Batch size = 32\n",
      "05/09/2022 06:25:17 - INFO - __main__ -     eval_ppl = 56.83528\n",
      "05/09/2022 06:25:17 - INFO - __main__ -     global_step = 1251\n",
      "05/09/2022 06:25:17 - INFO - __main__ -     train_loss = 3.7879\n",
      "05/09/2022 06:25:17 - INFO - __main__ -     ********************\n",
      "05/09/2022 06:25:20 - INFO - __main__ -     Best ppl:56.83528\n",
      "05/09/2022 06:25:20 - INFO - __main__ -     ********************\n",
      "Total: 1000\n",
      "05/09/2022 06:27:26 - INFO - __main__ -     bleu-4 = 14.44 \n",
      "05/09/2022 06:27:26 - INFO - __main__ -     ********************\n",
      "05/09/2022 06:27:26 - INFO - __main__ -     Best bleu:14.44\n",
      "05/09/2022 06:27:26 - INFO - __main__ -     ********************\n",
      "epoch 2 loss 3.4974: 100%|██████████| 625/625 [04:23<00:00,  2.37it/s]\n",
      "05/09/2022 06:31:51 - INFO - __main__ -   \n",
      "***** Running evaluation *****\n",
      "05/09/2022 06:31:51 - INFO - __main__ -     Num examples = 1400\n",
      "05/09/2022 06:31:51 - INFO - __main__ -     Batch size = 32\n",
      "05/09/2022 06:31:58 - INFO - __main__ -     eval_ppl = 51.14649\n",
      "05/09/2022 06:31:58 - INFO - __main__ -     global_step = 1876\n",
      "05/09/2022 06:31:58 - INFO - __main__ -     train_loss = 3.4974\n",
      "05/09/2022 06:31:58 - INFO - __main__ -     ********************\n",
      "05/09/2022 06:32:00 - INFO - __main__ -     Best ppl:51.14649\n",
      "05/09/2022 06:32:00 - INFO - __main__ -     ********************\n",
      "Total: 1000\n",
      "05/09/2022 06:34:01 - INFO - __main__ -     bleu-4 = 14.41 \n",
      "05/09/2022 06:34:01 - INFO - __main__ -     ********************\n"
     ]
    }
   ],
   "source": [
    "train_losses_java = train_dev_test(tokenizer, model, device, train_filename, max_source_length, max_target_length, learning_rate, adam_epsilon, \n",
    "            local_rank, train_batch_size, gradient_accumulation_steps, train_steps, weight_decay, \n",
    "            num_train_epochs, n_gpu, do_train, do_eval, dev_filename, eval_batch_size, \n",
    "            output_dir, do_test, test_filename, test_batch_size, load_model_path_test)"
   ]
  },
  {
   "cell_type": "code",
   "execution_count": 19,
   "metadata": {},
   "outputs": [
    {
     "data": {
      "image/png": "[encoded data removed]",
      "text/plain": [
       "<Figure size 432x288 with 1 Axes>"
      ]
     },
     "metadata": {
      "needs_background": "light"
     },
     "output_type": "display_data"
    }
   ],
   "source": [
    "plt.plot(train_losses_java)\n",
    "# plt.ylim(bottom=0)\n",
    "plt.xlabel('training steps')\n",
    "plt.ylabel('loss')\n",
    "plt.title('Training loss curve over batch updates for Java')\n",
    "plt.show();"
   ]
  },
  {
   "cell_type": "markdown",
   "metadata": {},
   "source": [
    "### JavaScript"
   ]
  },
  {
   "cell_type": "code",
   "execution_count": 32,
   "metadata": {},
   "outputs": [],
   "source": [
    "# Parameters\n",
    "lang                 = 'javascript'\n",
    "data_dir             = 'dataset'\n",
    "load_model_path      = None\n",
    "output_dir           = os.path.join('outputs', lang)\n",
    "load_model_path_test = os.path.join(output_dir, 'checkpoint-best-ppl', 'checkpoint-best-bleu', 'pytorch_model.bin') #checkpoint for test\n",
    "train_filename       = os.path.join(data_dir, lang, 'train_sample.jsonl') # 'train.jsonl'\n",
    "dev_filename         = os.path.join(data_dir, lang, 'valid_sample.jsonl') # 'valid.jsonl'\n",
    "test_filename        = os.path.join(data_dir, lang, 'test_sample.jsonl') # 'test.jsonl'\n",
    "do_train             = True\n",
    "do_eval              = True\n",
    "do_test              = False"
   ]
  },
  {
   "cell_type": "code",
   "execution_count": 33,
   "metadata": {},
   "outputs": [
    {
     "name": "stderr",
     "output_type": "stream",
     "text": [
      "05/09/2022 07:06:04 - INFO - __main__ -   ***** Running training *****\n",
      "05/09/2022 07:06:04 - INFO - __main__ -     Num examples = 20000\n",
      "05/09/2022 07:06:04 - INFO - __main__ -     Batch size = 32\n",
      "05/09/2022 07:06:04 - INFO - __main__ -     Num epoch = 3\n",
      "epoch 0 loss 4.472: 100%|██████████| 625/625 [04:21<00:00,  2.39it/s] \n",
      "05/09/2022 07:10:29 - INFO - __main__ -   \n",
      "***** Running evaluation *****\n",
      "05/09/2022 07:10:29 - INFO - __main__ -     Num examples = 1400\n",
      "05/09/2022 07:10:29 - INFO - __main__ -     Batch size = 32\n",
      "05/09/2022 07:10:35 - INFO - __main__ -     eval_ppl = 84.49826\n",
      "05/09/2022 07:10:35 - INFO - __main__ -     global_step = 626\n",
      "05/09/2022 07:10:35 - INFO - __main__ -     train_loss = 4.472\n",
      "05/09/2022 07:10:35 - INFO - __main__ -     ********************\n",
      "05/09/2022 07:10:38 - INFO - __main__ -     Best ppl:84.49826\n",
      "05/09/2022 07:10:38 - INFO - __main__ -     ********************\n",
      "Total: 1000\n",
      "05/09/2022 07:12:28 - INFO - __main__ -     bleu-4 = 12.12 \n",
      "05/09/2022 07:12:28 - INFO - __main__ -     ********************\n",
      "05/09/2022 07:12:28 - INFO - __main__ -     Best bleu:12.12\n",
      "05/09/2022 07:12:28 - INFO - __main__ -     ********************\n",
      "epoch 1 loss 4.061: 100%|██████████| 625/625 [04:23<00:00,  2.38it/s] \n",
      "05/09/2022 07:16:53 - INFO - __main__ -   \n",
      "***** Running evaluation *****\n",
      "05/09/2022 07:16:53 - INFO - __main__ -     Num examples = 1400\n",
      "05/09/2022 07:16:53 - INFO - __main__ -     Batch size = 32\n",
      "05/09/2022 07:17:00 - INFO - __main__ -     eval_ppl = 74.28774\n",
      "05/09/2022 07:17:00 - INFO - __main__ -     global_step = 1251\n",
      "05/09/2022 07:17:00 - INFO - __main__ -     train_loss = 4.061\n",
      "05/09/2022 07:17:00 - INFO - __main__ -     ********************\n",
      "05/09/2022 07:17:02 - INFO - __main__ -     Best ppl:74.28774\n",
      "05/09/2022 07:17:02 - INFO - __main__ -     ********************\n",
      "Total: 1000\n",
      "05/09/2022 07:18:58 - INFO - __main__ -     bleu-4 = 12.55 \n",
      "05/09/2022 07:18:58 - INFO - __main__ -     ********************\n",
      "05/09/2022 07:18:58 - INFO - __main__ -     Best bleu:12.55\n",
      "05/09/2022 07:18:58 - INFO - __main__ -     ********************\n",
      "epoch 2 loss 3.771: 100%|██████████| 625/625 [04:22<00:00,  2.38it/s] \n",
      "05/09/2022 07:23:23 - INFO - __main__ -   \n",
      "***** Running evaluation *****\n",
      "05/09/2022 07:23:23 - INFO - __main__ -     Num examples = 1400\n",
      "05/09/2022 07:23:23 - INFO - __main__ -     Batch size = 32\n",
      "05/09/2022 07:23:29 - INFO - __main__ -     eval_ppl = 68.11833\n",
      "05/09/2022 07:23:29 - INFO - __main__ -     global_step = 1876\n",
      "05/09/2022 07:23:29 - INFO - __main__ -     train_loss = 3.771\n",
      "05/09/2022 07:23:29 - INFO - __main__ -     ********************\n",
      "05/09/2022 07:23:31 - INFO - __main__ -     Best ppl:68.11833\n",
      "05/09/2022 07:23:31 - INFO - __main__ -     ********************\n",
      "Total: 1000\n",
      "05/09/2022 07:25:25 - INFO - __main__ -     bleu-4 = 12.5 \n",
      "05/09/2022 07:25:25 - INFO - __main__ -     ********************\n"
     ]
    }
   ],
   "source": [
    "train_losses_js = train_dev_test(tokenizer, model, device, train_filename, max_source_length, max_target_length, learning_rate, adam_epsilon, \n",
    "            local_rank, train_batch_size, gradient_accumulation_steps, train_steps, weight_decay, \n",
    "            num_train_epochs, n_gpu, do_train, do_eval, dev_filename, eval_batch_size, \n",
    "            output_dir, do_test, test_filename, test_batch_size, load_model_path_test)"
   ]
  },
  {
   "cell_type": "code",
   "execution_count": 34,
   "metadata": {},
   "outputs": [
    {
     "data": {
      "image/png": "[encoded data removed]",
      "text/plain": [
       "<Figure size 432x288 with 1 Axes>"
      ]
     },
     "metadata": {
      "needs_background": "light"
     },
     "output_type": "display_data"
    }
   ],
   "source": [
    "plt.plot(train_losses_js)\n",
    "# plt.ylim(bottom=0)\n",
    "plt.xlabel('training steps')\n",
    "plt.ylabel('loss')\n",
    "plt.title('Training loss curve over batch updates for JavaScript')\n",
    "plt.show();"
   ]
  },
  {
   "cell_type": "markdown",
   "metadata": {},
   "source": [
    "## Testing"
   ]
  },
  {
   "cell_type": "markdown",
   "metadata": {},
   "source": [
    "### Ruby"
   ]
  },
  {
   "cell_type": "code",
   "execution_count": 20,
   "metadata": {},
   "outputs": [],
   "source": [
    "# Parameters\n",
    "lang                 = 'ruby'\n",
    "data_dir             = 'dataset'\n",
    "load_model_path      = None\n",
    "output_dir           = os.path.join('outputs', lang)\n",
    "load_model_path_test = os.path.join(output_dir, 'checkpoint-best-ppl', 'checkpoint-best-bleu', 'pytorch_model.bin') #checkpoint for test\n",
    "train_filename       = os.path.join(data_dir, lang, 'train_sample.jsonl') # 'train.jsonl'\n",
    "dev_filename         = os.path.join(data_dir, lang, 'valid_sample.jsonl') # 'valid.jsonl'\n",
    "test_filename        = os.path.join(data_dir, lang, 'test_sample.jsonl') # 'test.jsonl'\n",
    "do_train             = False\n",
    "do_eval              = False\n",
    "do_test              = True"
   ]
  },
  {
   "cell_type": "code",
   "execution_count": 21,
   "metadata": {},
   "outputs": [
    {
     "name": "stderr",
     "output_type": "stream",
     "text": [
      "05/09/2022 06:34:01 - INFO - __main__ -   Test file: dataset/ruby/valid_sample.jsonl\n",
      "100%|██████████| 22/22 [02:44<00:00,  7.47s/it]\n",
      "Total: 1400\n",
      "05/09/2022 06:36:48 - INFO - __main__ -     bleu-4 = 11.08 \n",
      "05/09/2022 06:36:48 - INFO - __main__ -     ********************\n",
      "05/09/2022 06:36:48 - INFO - __main__ -   Test file: dataset/ruby/test_sample.jsonl\n",
      "100%|██████████| 16/16 [01:55<00:00,  7.22s/it]\n",
      "Total: 1000\n",
      "05/09/2022 06:38:45 - INFO - __main__ -     bleu-4 = 10.47 \n",
      "05/09/2022 06:38:45 - INFO - __main__ -     ********************\n"
     ]
    }
   ],
   "source": [
    "_ = train_dev_test(tokenizer, model, device, train_filename, max_source_length, max_target_length, learning_rate, adam_epsilon, \n",
    "            local_rank, train_batch_size, gradient_accumulation_steps, train_steps, weight_decay, \n",
    "            num_train_epochs, n_gpu, do_train, do_eval, dev_filename, eval_batch_size, \n",
    "            output_dir, do_test, test_filename, test_batch_size, load_model_path_test)"
   ]
  },
  {
   "cell_type": "markdown",
   "metadata": {},
   "source": [
    "### Python"
   ]
  },
  {
   "cell_type": "code",
   "execution_count": 22,
   "metadata": {},
   "outputs": [],
   "source": [
    "# Parameters\n",
    "lang                 = 'python'\n",
    "data_dir             = 'dataset'\n",
    "load_model_path      = None\n",
    "output_dir           = os.path.join('outputs', lang)\n",
    "load_model_path_test = os.path.join(output_dir, 'checkpoint-best-ppl', 'checkpoint-best-bleu', 'pytorch_model.bin') #checkpoint for test\n",
    "train_filename       = os.path.join(data_dir, lang, 'train_sample.jsonl') # 'train.jsonl'\n",
    "dev_filename         = os.path.join(data_dir, lang, 'valid_sample.jsonl') # 'valid.jsonl'\n",
    "test_filename        = os.path.join(data_dir, lang, 'test_sample.jsonl') # 'test.jsonl'\n",
    "do_train             = False\n",
    "do_eval              = False\n",
    "do_test              = True"
   ]
  },
  {
   "cell_type": "code",
   "execution_count": 23,
   "metadata": {},
   "outputs": [
    {
     "name": "stderr",
     "output_type": "stream",
     "text": [
      "05/09/2022 06:38:45 - INFO - __main__ -   Test file: dataset/python/valid_sample.jsonl\n",
      "100%|██████████| 22/22 [02:50<00:00,  7.74s/it]\n",
      "Total: 1400\n",
      "05/09/2022 06:41:37 - INFO - __main__ -     bleu-4 = 11.98 \n",
      "05/09/2022 06:41:37 - INFO - __main__ -     ********************\n",
      "05/09/2022 06:41:37 - INFO - __main__ -   Test file: dataset/python/test_sample.jsonl\n",
      "100%|██████████| 16/16 [02:01<00:00,  7.60s/it]\n",
      "Total: 1000\n",
      "05/09/2022 06:43:41 - INFO - __main__ -     bleu-4 = 12.75 \n",
      "05/09/2022 06:43:41 - INFO - __main__ -     ********************\n"
     ]
    }
   ],
   "source": [
    "_ = train_dev_test(tokenizer, model, device, train_filename, max_source_length, max_target_length, learning_rate, adam_epsilon, \n",
    "            local_rank, train_batch_size, gradient_accumulation_steps, train_steps, weight_decay, \n",
    "            num_train_epochs, n_gpu, do_train, do_eval, dev_filename, eval_batch_size, \n",
    "            output_dir, do_test, test_filename, test_batch_size, load_model_path_test)"
   ]
  },
  {
   "cell_type": "markdown",
   "metadata": {},
   "source": [
    "### Java"
   ]
  },
  {
   "cell_type": "code",
   "execution_count": 24,
   "metadata": {},
   "outputs": [],
   "source": [
    "# Parameters\n",
    "lang                 = 'java'\n",
    "data_dir             = 'dataset'\n",
    "load_model_path      = None\n",
    "output_dir           = os.path.join('outputs', lang)\n",
    "load_model_path_test = os.path.join(output_dir, 'checkpoint-best-ppl', 'checkpoint-best-bleu', 'pytorch_model.bin') #checkpoint for test\n",
    "train_filename       = os.path.join(data_dir, lang, 'train_sample.jsonl') # 'train.jsonl'\n",
    "dev_filename         = os.path.join(data_dir, lang, 'valid_sample.jsonl') # 'valid.jsonl'\n",
    "test_filename        = os.path.join(data_dir, lang, 'test_sample.jsonl') # 'test.jsonl'\n",
    "do_train             = False\n",
    "do_eval              = False\n",
    "do_test              = True"
   ]
  },
  {
   "cell_type": "code",
   "execution_count": 25,
   "metadata": {},
   "outputs": [
    {
     "name": "stderr",
     "output_type": "stream",
     "text": [
      "05/09/2022 06:43:41 - INFO - __main__ -   Test file: dataset/java/valid_sample.jsonl\n",
      "100%|██████████| 22/22 [02:42<00:00,  7.38s/it]\n",
      "Total: 1400\n",
      "05/09/2022 06:46:25 - INFO - __main__ -     bleu-4 = 13.06 \n",
      "05/09/2022 06:46:25 - INFO - __main__ -     ********************\n",
      "05/09/2022 06:46:25 - INFO - __main__ -   Test file: dataset/java/test_sample.jsonl\n",
      "100%|██████████| 16/16 [01:57<00:00,  7.35s/it]\n",
      "Total: 1000\n",
      "05/09/2022 06:48:26 - INFO - __main__ -     bleu-4 = 13.28 \n",
      "05/09/2022 06:48:26 - INFO - __main__ -     ********************\n"
     ]
    }
   ],
   "source": [
    "_ = train_dev_test(tokenizer, model, device, train_filename, max_source_length, max_target_length, learning_rate, adam_epsilon, \n",
    "            local_rank, train_batch_size, gradient_accumulation_steps, train_steps, weight_decay, \n",
    "            num_train_epochs, n_gpu, do_train, do_eval, dev_filename, eval_batch_size, \n",
    "            output_dir, do_test, test_filename, test_batch_size, load_model_path_test)"
   ]
  },
  {
   "cell_type": "markdown",
   "metadata": {},
   "source": [
    "### JavaScript"
   ]
  },
  {
   "cell_type": "code",
   "execution_count": 35,
   "metadata": {},
   "outputs": [],
   "source": [
    "# Parameters\n",
    "lang                 = 'javascript'\n",
    "data_dir             = 'dataset'\n",
    "load_model_path      = None\n",
    "output_dir           = os.path.join('outputs', lang)\n",
    "load_model_path_test = os.path.join(output_dir, 'checkpoint-best-ppl', 'checkpoint-best-bleu', 'pytorch_model.bin') #checkpoint for test\n",
    "train_filename       = os.path.join(data_dir, lang, 'train_sample.jsonl') # 'train.jsonl'\n",
    "dev_filename         = os.path.join(data_dir, lang, 'valid_sample.jsonl') # 'valid.jsonl'\n",
    "test_filename        = os.path.join(data_dir, lang, 'test_sample.jsonl') # 'test.jsonl'\n",
    "do_train             = False\n",
    "do_eval              = False\n",
    "do_test              = True"
   ]
  },
  {
   "cell_type": "code",
   "execution_count": 36,
   "metadata": {},
   "outputs": [
    {
     "name": "stderr",
     "output_type": "stream",
     "text": [
      "05/09/2022 07:25:25 - INFO - __main__ -   Test file: dataset/javascript/valid_sample.jsonl\n",
      "100%|██████████| 22/22 [02:22<00:00,  6.47s/it]\n",
      "Total: 1400\n",
      "05/09/2022 07:27:50 - INFO - __main__ -     bleu-4 = 11.41 \n",
      "05/09/2022 07:27:50 - INFO - __main__ -     ********************\n",
      "05/09/2022 07:27:50 - INFO - __main__ -   Test file: dataset/javascript/test_sample.jsonl\n",
      "100%|██████████| 16/16 [01:46<00:00,  6.65s/it]\n",
      "Total: 1000\n",
      "05/09/2022 07:29:39 - INFO - __main__ -     bleu-4 = 10.9 \n",
      "05/09/2022 07:29:39 - INFO - __main__ -     ********************\n"
     ]
    }
   ],
   "source": [
    "_ = train_dev_test(tokenizer, model, device, train_filename, max_source_length, max_target_length, learning_rate, adam_epsilon, \n",
    "            local_rank, train_batch_size, gradient_accumulation_steps, train_steps, weight_decay, \n",
    "            num_train_epochs, n_gpu, do_train, do_eval, dev_filename, eval_batch_size, \n",
    "            output_dir, do_test, test_filename, test_batch_size, load_model_path_test)"
   ]
  },
  {
   "cell_type": "markdown",
   "metadata": {},
   "source": [
    "## Evaluation"
   ]
  },
  {
   "cell_type": "code",
   "execution_count": 41,
   "metadata": {},
   "outputs": [
    {
     "name": "stdout",
     "output_type": "stream",
     "text": [
      "Total: 1000\n",
      "10.467842529005843\n"
     ]
    }
   ],
   "source": [
    "!python ./evaluator.py ./outputs/ruby/test_1.gold < ./outputs/ruby/test_1.output"
   ]
  },
  {
   "cell_type": "code",
   "execution_count": 42,
   "metadata": {},
   "outputs": [
    {
     "name": "stdout",
     "output_type": "stream",
     "text": [
      "Total: 1000\n",
      "12.75435292052378\n"
     ]
    }
   ],
   "source": [
    "!python ./evaluator.py ./outputs/python/test_1.gold < ./outputs/python/test_1.output"
   ]
  },
  {
   "cell_type": "code",
   "execution_count": 43,
   "metadata": {},
   "outputs": [
    {
     "name": "stdout",
     "output_type": "stream",
     "text": [
      "Total: 1000\n",
      "13.278347224256823\n"
     ]
    }
   ],
   "source": [
    "!python ./evaluator.py ./outputs/java/test_1.gold < ./outputs/java/test_1.output"
   ]
  },
  {
   "cell_type": "code",
   "execution_count": 44,
   "metadata": {},
   "outputs": [
    {
     "name": "stdout",
     "output_type": "stream",
     "text": [
      "Total: 1000\n",
      "10.895122393732821\n"
     ]
    }
   ],
   "source": [
    "!python ./evaluator.py ./outputs/javascript/test_1.gold < ./outputs/javascript/test_1.output"
   ]
  }
 ],
 "metadata": {
  "interpreter": {
   "hash": "60b692e3695458636a9423bc1b0e08dc0651ac57a2ff45251d6d6353a9afb6b6"
  },
  "kernelspec": {
   "display_name": "Python 3",
   "language": "python",
   "name": "python3"
  },
  "language_info": {
   "codemirror_mode": {
    "name": "ipython",
    "version": 3
   },
   "file_extension": ".py",
   "mimetype": "text/x-python",
   "name": "python",
   "nbconvert_exporter": "python",
   "pygments_lexer": "ipython3",
   "version": "3.6.9"
  }
 },
 "nbformat": 4,
 "nbformat_minor": 2
}
